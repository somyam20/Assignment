{
 "cells": [
  {
   "cell_type": "code",
   "execution_count": 11,
   "id": "bb7bf363-da92-474c-8c55-19dfe0b5f89d",
   "metadata": {},
   "outputs": [],
   "source": [
    "import pandas as pd\n",
    "import numpy as np\n",
    "import random\n",
    "from datetime import datetime, timedelta"
   ]
  },
  {
   "cell_type": "code",
   "execution_count": 12,
   "id": "c15657ce-9216-4d3f-b17d-36be12ad5720",
   "metadata": {},
   "outputs": [],
   "source": [
    "custnames = [\"Somya Misra\", \"Priya Chaudhary\", \"Bipasha Jadhav\", \"Preeti Singh\", \"Silbina\"]\n",
    "respids = [f\"CUST{random.randint(1000,9999)}\" for _ in range(len(custnames))]"
   ]
  },
  {
   "cell_type": "code",
   "execution_count": 13,
   "id": "04450d2d-0056-4ba7-b7a6-bd8c825413ab",
   "metadata": {},
   "outputs": [],
   "source": [
    "Categories = {\n",
    "    \"Salary Credit\": [\"Monthly Pay\", \"Salary Deposit\", \"Company Transfer\"],\n",
    "    \"Shopping\": [\"Amazon Purchase\", \"Flipkart Order\", \"Myntra Shopping\", \"Retail Store\"],\n",
    "    \"Food & Dining\": [\"Swiggy Order\", \"Zomato Bill\", \"Cafe Coffee Day\", \"Restaurant Payment\"],\n",
    "    \"Loan EMI\": [\"HDFC Loan Payment\", \"SBI Home EMI\", \"ICICI Personal Loan\"],\n",
    "    \"Utility Bills\": [\"Electric Bill\", \"Water Charge\", \"Internet Bill\", \"Gas Connection\"],\n",
    "    \"Cash Withdrawal\": [\"ATM Transaction\", \"Bank Withdrawal\"],\n",
    "    \"Bank Transfer\": [\"UPI Transfer\", \"IMPS Payment\", \"NEFT Transaction\"]\n",
    "}\n"
   ]
  },
  {
   "cell_type": "code",
   "execution_count": 14,
   "id": "b1ce88c6-443c-4f5a-886f-ea8b0f884b63",
   "metadata": {},
   "outputs": [],
   "source": [
    "def random_date():\n",
    "   \n",
    "    start_date = datetime.now() - timedelta(days=365)\n",
    "    random_days = random.randint(0, 365)\n",
    "    date_obj = start_date + timedelta(days=random_days)\n",
    "    \n",
    "    formats = [\"%Y-%m-%d\", \"%d/%m/%Y\", \"%b %d, %Y\"]\n",
    "    return date_obj.strftime(random.choice(formats))"
   ]
  },
  {
   "cell_type": "code",
   "execution_count": 15,
   "id": "443fffc6-c08e-4939-9b45-04ae902e50d3",
   "metadata": {},
   "outputs": [],
   "source": [
    "def create_transactions(customer_id, count=50):\n",
    "   \n",
    "    transactions = []\n",
    "    for _ in range(count):\n",
    "        trans_date = random_date()\n",
    "        trans_type = random.choice(list(Categories.keys()))\n",
    "        trans_desc = random.choice(Categories[trans_type])\n",
    "        trans_amount = round(random.uniform(100, 50000), 2)\n",
    "        \n",
    "        # Introduce inconsistencies\n",
    "        if random.random() < 0.1:\n",
    "            trans_desc = None  # Missing description\n",
    "        if random.random() < 0.1:\n",
    "            trans_amount = None  # Missing amount\n",
    "        \n",
    "        transactions.append([respid, trans_date, trans_type, trans_desc, trans_amount])\n",
    "    return transactions"
   ]
  },
  {
   "cell_type": "code",
   "execution_count": 16,
   "id": "681c95f8-8c2c-4de9-b8ba-d284f52df923",
   "metadata": {},
   "outputs": [],
   "source": [
    "def create_credit_report(customer_id):\n",
    "    \n",
    "    return {\n",
    "        \"Customer ID\": customer_id,\n",
    "        \"Credit Score\": random.randint(300, 900),\n",
    "        \"Active Loans\": random.randint(0, 5),\n",
    "        \"Credit Utilization (%)\": round(random.uniform(10, 90), 2),\n",
    "        \"Missed Payments (12 Months)\": random.randint(0, 5),\n",
    "        \"Total Debt\": round(random.uniform(5000, 200000), 2),\n",
    "        \"Debt-to-Income Ratio\": round(random.uniform(0.1, 0.8), 2)\n",
    "    }\n"
   ]
  },
  {
   "cell_type": "code",
   "execution_count": 17,
   "id": "428e94e9-edf3-4a60-8a77-74ca186b3262",
   "metadata": {},
   "outputs": [],
   "source": [
    "all_transaction_data = []\n",
    "credit_reports = []\n",
    "\n",
    "for respid in respids:\n",
    "    all_transaction_data.extend(create_transactions(respid))\n",
    "    credit_reports.append(create_credit_report(respid))\n"
   ]
  },
  {
   "cell_type": "code",
   "execution_count": 18,
   "id": "35589078-21df-4a8b-aa26-51e2eb42e824",
   "metadata": {},
   "outputs": [],
   "source": [
    "transactions_df = pd.DataFrame(all_transaction_data, columns=[\"Customer ID\", \"Date\", \"Category\", \"Description\", \"Amount\"])\n",
    "credit_bureau_df = pd.DataFrame(credit_reports)"
   ]
  },
  {
   "cell_type": "code",
   "execution_count": 19,
   "id": "f8bc2f16-a5dd-4ae9-8381-77e2b66237c2",
   "metadata": {},
   "outputs": [],
   "source": [
    "transactions_df.to_csv(\"financial_transactions.csv\", index=False)\n",
    "credit_bureau_df.to_csv(\"credit_reports.csv\", index=False)"
   ]
  },
  {
   "cell_type": "markdown",
   "id": "4549a0c6-ca93-4fba-ba79-e37ba9249a08",
   "metadata": {},
   "source": [
    "#TASK 1\n"
   ]
  },
  {
   "cell_type": "code",
   "execution_count": 20,
   "id": "358d75d8-7a15-4267-9342-fcc2f958b45b",
   "metadata": {},
   "outputs": [],
   "source": [
    "import pandas as pd\n",
    "import numpy as np\n",
    "import re"
   ]
  },
  {
   "cell_type": "code",
   "execution_count": 21,
   "id": "faa9d9d7-4352-4a97-b700-57210fc4cb04",
   "metadata": {},
   "outputs": [],
   "source": [
    "transactions = pd.read_csv(\"financial_transactions.csv\")\n",
    "credits = pd.read_csv(\"credit_reports.csv\")"
   ]
  },
  {
   "cell_type": "code",
   "execution_count": 22,
   "id": "1140b46a-e63f-41f2-8814-821ad849b52c",
   "metadata": {},
   "outputs": [],
   "source": [
    "def standardize_date(date):\n",
    "   \n",
    "    for fmt in (\"%Y-%m-%d\", \"%d/%m/%Y\", \"%b %d, %Y\"):\n",
    "        try:\n",
    "            return pd.to_datetime(date, format=fmt).strftime(\"%Y-%m-%d\")\n",
    "        except ValueError:\n",
    "            continue\n",
    "    return np.nan "
   ]
  },
  {
   "cell_type": "code",
   "execution_count": 23,
   "id": "ba3023ae-c0e0-43c9-851d-40b9d4eec9f5",
   "metadata": {},
   "outputs": [],
   "source": [
    "transactions[\"Date\"] = transactions[\"Date\"].apply(standardize_date)"
   ]
  },
  {
   "cell_type": "code",
   "execution_count": 24,
   "id": "ad68612b-787d-40b6-b967-0bbecf6adccf",
   "metadata": {},
   "outputs": [],
   "source": [
    "transactions[\"Description\"].fillna(\"Unknown Transaction\", inplace=True)\n",
    "transactions[\"Amount\"].fillna(transactions_df[\"Amount\"].median(), inplace=True)"
   ]
  },
  {
   "cell_type": "code",
   "execution_count": 25,
   "id": "679c840c-dc04-4004-9246-62adfa728c7b",
   "metadata": {},
   "outputs": [],
   "source": [
    "def cleandescription(desc):\n",
    "    return re.sub(r\"[^a-zA-Z0-9 ]\", \"\", desc.lower()) if pd.notna(desc) else \"unknown transaction\"\n",
    "\n",
    "transactions[\"Description\"] = transactions[\"Description\"].apply(clean_description)"
   ]
  },
  {
   "cell_type": "code",
   "execution_count": 26,
   "id": "5dccd205-3e49-45f8-95f0-1121918b89ed",
   "metadata": {},
   "outputs": [],
   "source": [
    "transactions.to_csv(\"cleanedfinancialdata.csv\", index=False)\n",
    "credits.to_csv(\"cleanedcreditreports.csv\", index=False)"
   ]
  },
  {
   "cell_type": "markdown",
   "id": "8a79ff11-d64e-496a-bf69-60482bd202c1",
   "metadata": {},
   "source": [
    "#TASK 2"
   ]
  },
  {
   "cell_type": "code",
   "execution_count": 29,
   "id": "cd5fcaea-02b7-47fa-a22f-6e3578d25932",
   "metadata": {},
   "outputs": [
    {
     "name": "stdout",
     "output_type": "stream",
     "text": [
      "Requirement already satisfied: transformers in c:\\users\\somya\\anaconda3\\lib\\site-packages (4.50.0)\n",
      "Requirement already satisfied: torch in c:\\users\\somya\\anaconda3\\lib\\site-packages (2.6.0)\n",
      "Requirement already satisfied: tokenizers<0.22,>=0.21 in c:\\users\\somya\\anaconda3\\lib\\site-packages (from transformers) (0.21.1)\n",
      "Requirement already satisfied: safetensors>=0.4.3 in c:\\users\\somya\\anaconda3\\lib\\site-packages (from transformers) (0.5.3)\n",
      "Requirement already satisfied: numpy>=1.17 in c:\\users\\somya\\anaconda3\\lib\\site-packages (from transformers) (1.21.4)\n",
      "Requirement already satisfied: huggingface-hub<1.0,>=0.26.0 in c:\\users\\somya\\anaconda3\\lib\\site-packages (from transformers) (0.29.3)\n",
      "Requirement already satisfied: regex!=2019.12.17 in c:\\users\\somya\\anaconda3\\lib\\site-packages (from transformers) (2022.7.9)\n",
      "Requirement already satisfied: tqdm>=4.27 in c:\\users\\somya\\anaconda3\\lib\\site-packages (from transformers) (4.64.1)\n",
      "Requirement already satisfied: requests in c:\\users\\somya\\anaconda3\\lib\\site-packages (from transformers) (2.28.1)\n",
      "Requirement already satisfied: filelock in c:\\users\\somya\\anaconda3\\lib\\site-packages (from transformers) (3.6.0)\n",
      "Requirement already satisfied: pyyaml>=5.1 in c:\\users\\somya\\anaconda3\\lib\\site-packages (from transformers) (6.0)\n",
      "Requirement already satisfied: packaging>=20.0 in c:\\users\\somya\\anaconda3\\lib\\site-packages (from transformers) (21.3)\n",
      "Requirement already satisfied: typing-extensions>=4.10.0 in c:\\users\\somya\\anaconda3\\lib\\site-packages (from torch) (4.12.2)\n",
      "Requirement already satisfied: networkx in c:\\users\\somya\\anaconda3\\lib\\site-packages (from torch) (2.8.4)\n",
      "Requirement already satisfied: sympy==1.13.1 in c:\\users\\somya\\anaconda3\\lib\\site-packages (from torch) (1.13.1)\n",
      "Requirement already satisfied: jinja2 in c:\\users\\somya\\anaconda3\\lib\\site-packages (from torch) (3.1.5)\n",
      "Requirement already satisfied: fsspec in c:\\users\\somya\\anaconda3\\lib\\site-packages (from torch) (2025.3.0)\n",
      "Requirement already satisfied: mpmath<1.4,>=1.1.0 in c:\\users\\somya\\anaconda3\\lib\\site-packages (from sympy==1.13.1->torch) (1.2.1)\n",
      "Requirement already satisfied: pyparsing!=3.0.5,>=2.0.2 in c:\\users\\somya\\anaconda3\\lib\\site-packages (from packaging>=20.0->transformers) (3.0.9)\n",
      "Requirement already satisfied: colorama in c:\\users\\somya\\anaconda3\\lib\\site-packages (from tqdm>=4.27->transformers) (0.4.5)\n",
      "Requirement already satisfied: MarkupSafe>=2.0 in c:\\users\\somya\\anaconda3\\lib\\site-packages (from jinja2->torch) (3.0.2)\n",
      "Requirement already satisfied: certifi>=2017.4.17 in c:\\users\\somya\\anaconda3\\lib\\site-packages (from requests->transformers) (2022.9.14)\n",
      "Requirement already satisfied: idna<4,>=2.5 in c:\\users\\somya\\anaconda3\\lib\\site-packages (from requests->transformers) (3.3)\n",
      "Requirement already satisfied: charset-normalizer<3,>=2 in c:\\users\\somya\\anaconda3\\lib\\site-packages (from requests->transformers) (2.0.4)\n",
      "Requirement already satisfied: urllib3<1.27,>=1.21.1 in c:\\users\\somya\\anaconda3\\lib\\site-packages (from requests->transformers) (1.26.11)\n"
     ]
    }
   ],
   "source": [
    "!pip install transformers torch"
   ]
  },
  {
   "cell_type": "code",
   "execution_count": null,
   "id": "9e749a45-682f-418a-bcc0-4458e9454cf3",
   "metadata": {},
   "outputs": [
    {
     "name": "stdout",
     "output_type": "stream",
     "text": [
      "Found existing installation: numpy 2.0.2\n",
      "Uninstalling numpy-2.0.2:\n",
      "  Successfully uninstalled numpy-2.0.2\n",
      "Found existing installation: torch 2.6.0\n",
      "Uninstalling torch-2.6.0:\n",
      "  Successfully uninstalled torch-2.6.0\n"
     ]
    },
    {
     "name": "stderr",
     "output_type": "stream",
     "text": [
      "ERROR: Exception:\n",
      "Traceback (most recent call last):\n",
      "  File \"C:\\Users\\somya\\anaconda3\\lib\\site-packages\\pip\\_internal\\cli\\base_command.py\", line 167, in exc_logging_wrapper\n",
      "    status = run_func(*args)\n",
      "  File \"C:\\Users\\somya\\anaconda3\\lib\\site-packages\\pip\\_internal\\commands\\uninstall.py\", line 103, in run\n",
      "    uninstall_pathset.commit()\n",
      "  File \"C:\\Users\\somya\\anaconda3\\lib\\site-packages\\pip\\_internal\\req\\req_uninstall.py\", line 424, in commit\n",
      "    self._moved_paths.commit()\n",
      "  File \"C:\\Users\\somya\\anaconda3\\lib\\site-packages\\pip\\_internal\\req\\req_uninstall.py\", line 277, in commit\n",
      "    save_dir.cleanup()\n",
      "  File \"C:\\Users\\somya\\anaconda3\\lib\\site-packages\\pip\\_internal\\utils\\temp_dir.py\", line 173, in cleanup\n",
      "    rmtree(self._path)\n",
      "  File \"C:\\Users\\somya\\anaconda3\\lib\\site-packages\\pip\\_vendor\\tenacity\\__init__.py\", line 326, in wrapped_f\n",
      "    return self(f, *args, **kw)\n",
      "  File \"C:\\Users\\somya\\anaconda3\\lib\\site-packages\\pip\\_vendor\\tenacity\\__init__.py\", line 406, in __call__\n",
      "    do = self.iter(retry_state=retry_state)\n",
      "  File \"C:\\Users\\somya\\anaconda3\\lib\\site-packages\\pip\\_vendor\\tenacity\\__init__.py\", line 362, in iter\n",
      "    raise retry_exc.reraise()\n",
      "  File \"C:\\Users\\somya\\anaconda3\\lib\\site-packages\\pip\\_vendor\\tenacity\\__init__.py\", line 195, in reraise\n",
      "    raise self.last_attempt.result()\n",
      "  File \"C:\\Users\\somya\\anaconda3\\lib\\concurrent\\futures\\_base.py\", line 439, in result\n",
      "    return self.__get_result()\n",
      "  File \"C:\\Users\\somya\\anaconda3\\lib\\concurrent\\futures\\_base.py\", line 391, in __get_result\n",
      "    raise self._exception\n",
      "  File \"C:\\Users\\somya\\anaconda3\\lib\\site-packages\\pip\\_vendor\\tenacity\\__init__.py\", line 409, in __call__\n",
      "    result = fn(*args, **kwargs)\n",
      "  File \"C:\\Users\\somya\\anaconda3\\lib\\site-packages\\pip\\_internal\\utils\\misc.py\", line 128, in rmtree\n",
      "    shutil.rmtree(dir, ignore_errors=ignore_errors, onerror=rmtree_errorhandler)\n",
      "  File \"C:\\Users\\somya\\anaconda3\\lib\\shutil.py\", line 759, in rmtree\n",
      "    return _rmtree_unsafe(path, onerror)\n",
      "  File \"C:\\Users\\somya\\anaconda3\\lib\\shutil.py\", line 624, in _rmtree_unsafe\n",
      "    _rmtree_unsafe(fullname, onerror)\n",
      "  File \"C:\\Users\\somya\\anaconda3\\lib\\shutil.py\", line 629, in _rmtree_unsafe\n",
      "    onerror(os.unlink, fullname, sys.exc_info())\n",
      "  File \"C:\\Users\\somya\\anaconda3\\lib\\shutil.py\", line 627, in _rmtree_unsafe\n",
      "    os.unlink(fullname)\n",
      "PermissionError: [WinError 5] Access is denied: 'C:\\\\Users\\\\somya\\\\anaconda3\\\\Lib\\\\site-packages\\\\~orch\\\\lib\\\\asmjit.dll'\n"
     ]
    },
    {
     "name": "stdout",
     "output_type": "stream",
     "text": [
      "Files removed: 161\n"
     ]
    }
   ],
   "source": [
    "!pip uninstall numpy torch transformers tensorflow -y\n",
    "!pip cache purge\n",
    "!pip install numpy torch transformers tensorflow\n",
    "\n"
   ]
  },
  {
   "cell_type": "code",
   "execution_count": null,
   "id": "7f5c9d70-552f-43b1-be03-38f110f8d5a9",
   "metadata": {},
   "outputs": [],
   "source": []
  }
 ],
 "metadata": {
  "kernelspec": {
   "display_name": "Python 3 (ipykernel)",
   "language": "python",
   "name": "python3"
  },
  "language_info": {
   "codemirror_mode": {
    "name": "ipython",
    "version": 3
   },
   "file_extension": ".py",
   "mimetype": "text/x-python",
   "name": "python",
   "nbconvert_exporter": "python",
   "pygments_lexer": "ipython3",
   "version": "3.9.13"
  }
 },
 "nbformat": 4,
 "nbformat_minor": 5
}
