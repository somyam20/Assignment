{
  "cells": [
    {
      "cell_type": "code",
      "execution_count": null,
      "id": "290d7085-cd57-415c-b714-d343ad91bee6",
      "metadata": {
        "id": "290d7085-cd57-415c-b714-d343ad91bee6",
        "outputId": "3e239aaf-3217-4b32-ae91-9d1c799b17d0"
      },
      "outputs": [
        {
          "name": "stdout",
          "output_type": "stream",
          "text": [
            "1.26.4\n"
          ]
        }
      ],
      "source": [
        "import numpy as np\n",
        "print(np.__version__)\n"
      ]
    },
    {
      "cell_type": "code",
      "execution_count": null,
      "id": "32147f1f-20a5-4791-85ed-5452e1a9bfb3",
      "metadata": {
        "id": "32147f1f-20a5-4791-85ed-5452e1a9bfb3"
      },
      "outputs": [],
      "source": [
        "import pandas as pd\n",
        "import re"
      ]
    },
    {
      "cell_type": "code",
      "execution_count": null,
      "id": "f178e983-c44f-4960-b6f8-43a45bd13548",
      "metadata": {
        "id": "f178e983-c44f-4960-b6f8-43a45bd13548",
        "outputId": "676f1880-8eb8-44d7-f5f0-eef26c61b6c1"
      },
      "outputs": [
        {
          "name": "stdout",
          "output_type": "stream",
          "text": [
            "Requirement already satisfied: numexpr in c:\\users\\somya\\anaconda3\\lib\\site-packages (2.8.3)\n",
            "Collecting numexpr\n",
            "  Downloading numexpr-2.10.2-cp39-cp39-win_amd64.whl (144 kB)\n",
            "     -------------------------------------- 145.0/145.0 kB 1.4 MB/s eta 0:00:00\n",
            "Requirement already satisfied: bottleneck in c:\\users\\somya\\anaconda3\\lib\\site-packages (1.3.5)\n",
            "Collecting bottleneck\n",
            "  Downloading Bottleneck-1.4.2-cp39-cp39-win_amd64.whl (111 kB)\n",
            "     -------------------------------------- 111.6/111.6 kB 3.3 MB/s eta 0:00:00\n",
            "Requirement already satisfied: numpy>=1.23.0 in c:\\users\\somya\\anaconda3\\lib\\site-packages (from numexpr) (1.26.4)\n",
            "Installing collected packages: numexpr, bottleneck\n",
            "  Attempting uninstall: numexpr\n",
            "    Found existing installation: numexpr 2.8.3\n",
            "    Uninstalling numexpr-2.8.3:\n",
            "      Successfully uninstalled numexpr-2.8.3\n",
            "  Attempting uninstall: bottleneck\n",
            "    Found existing installation: Bottleneck 1.3.5\n",
            "    Uninstalling Bottleneck-1.3.5:\n",
            "      Successfully uninstalled Bottleneck-1.3.5\n",
            "Successfully installed bottleneck-1.4.2 numexpr-2.10.2\n"
          ]
        }
      ],
      "source": [
        "!pip install --upgrade numexpr bottleneck\n"
      ]
    },
    {
      "cell_type": "code",
      "execution_count": null,
      "id": "00eef4ea-45d7-48b1-9d24-7b2c2afe9d3c",
      "metadata": {
        "id": "00eef4ea-45d7-48b1-9d24-7b2c2afe9d3c"
      },
      "outputs": [],
      "source": [
        "data = {\n",
        "    \"Transaction\": [\n",
        "        \"Salary Credit - Infosys Ltd ₹75,000\",\n",
        "        \"Swiggy Order #2345 ₹650\",\n",
        "        \"Electricity Bill - BESCOM ₹2,000\",\n",
        "        \"HDFC Loan EMI Payment ₹30,000\",\n",
        "        \"Amazon Purchase ₹4,500\",\n",
        "        \"Zomato ₹890\",\n",
        "        \"Myntra ₹2,000\"\n",
        "    ]\n",
        "}"
      ]
    },
    {
      "cell_type": "code",
      "execution_count": null,
      "id": "938f391f-c1c2-4734-a2e3-8f234d0efae0",
      "metadata": {
        "id": "938f391f-c1c2-4734-a2e3-8f234d0efae0"
      },
      "outputs": [],
      "source": [
        "df = pd.DataFrame(data)\n",
        "\n",
        "# Define regex patterns for categorization\n",
        "categories = {\n",
        "    \"Salary\": r\"(?i)salary|credit|infosys|wipro|tcs\",\n",
        "    \"Food & Dining\": r\"(?i)swiggy|zomato|foodpanda|ubereats\",\n",
        "    \"Utilities\": r\"(?i)electricity|water bill|gas bill|bescom|tatapower\",\n",
        "    \"Loan EMI\": r\"(?i)loan emi|hdfc|sbi|icici|mortgage\",\n",
        "    \"Shopping\": r\"(?i)amazon|flipkart|myntra|ajio|shopperstop\"\n",
        "}\n"
      ]
    },
    {
      "cell_type": "code",
      "execution_count": null,
      "id": "665b21d1-988b-4e4d-ae7a-8c37fcc137db",
      "metadata": {
        "id": "665b21d1-988b-4e4d-ae7a-8c37fcc137db"
      },
      "outputs": [],
      "source": [
        "def categorize_transaction(transaction):\n",
        "    for category, pattern in categories.items():\n",
        "        if re.search(pattern, transaction):\n",
        "            return category\n",
        "    return \"Other\"\n"
      ]
    },
    {
      "cell_type": "code",
      "execution_count": null,
      "id": "5aa43908-3dc8-4dd3-a48e-b14bf97401b4",
      "metadata": {
        "id": "5aa43908-3dc8-4dd3-a48e-b14bf97401b4",
        "outputId": "738a8498-e283-471b-e59f-fc9fdbb1b972"
      },
      "outputs": [
        {
          "name": "stdout",
          "output_type": "stream",
          "text": [
            "                           Transaction       Category\n",
            "0  Salary Credit - Infosys Ltd ₹75,000         Salary\n",
            "1              Swiggy Order #2345 ₹650  Food & Dining\n",
            "2     Electricity Bill - BESCOM ₹2,000      Utilities\n",
            "3        HDFC Loan EMI Payment ₹30,000       Loan EMI\n",
            "4               Amazon Purchase ₹4,500       Shopping\n",
            "5                          Zomato ₹890  Food & Dining\n",
            "6                        Myntra ₹2,000       Shopping\n"
          ]
        }
      ],
      "source": [
        "df[\"Category\"] = df[\"Transaction\"].apply(categorize_transaction)\n",
        "\n",
        "# Display results\n",
        "print(df)"
      ]
    },
    {
      "cell_type": "markdown",
      "id": "397ce1bb-0d02-42c4-aa80-a81ab112b329",
      "metadata": {
        "id": "397ce1bb-0d02-42c4-aa80-a81ab112b329"
      },
      "source": [
        "#TASK 3"
      ]
    },
    {
      "cell_type": "code",
      "execution_count": null,
      "id": "c0fe0e3f-b76e-4651-bf69-e9710c0f0ef7",
      "metadata": {
        "id": "c0fe0e3f-b76e-4651-bf69-e9710c0f0ef7",
        "outputId": "450679af-a7af-4d05-de55-0e93ceff97eb"
      },
      "outputs": [
        {
          "name": "stdout",
          "output_type": "stream",
          "text": [
            "  Customer ID  Credit Score  Active Loans  Credit Utilization (%)  \\\n",
            "0    CUST3141           567             3                   40.86   \n",
            "1    CUST4357           565             1                   71.55   \n",
            "2    CUST3838           747             0                   75.38   \n",
            "3    CUST2343           717             0                   43.45   \n",
            "4    CUST8876           597             2                   43.44   \n",
            "\n",
            "   Missed Payments (12 Months)  Total Debt  Debt-to-Income Ratio  \n",
            "0                            4   161854.14                  0.32  \n",
            "1                            3   166507.41                  0.38  \n",
            "2                            2   184491.38                  0.46  \n",
            "3                            1   117802.79                  0.61  \n",
            "4                            2    34003.18                  0.79  \n"
          ]
        }
      ],
      "source": [
        "import pandas as pd\n",
        "\n",
        "df = pd.read_csv(r\"C:\\Users\\somya\\cleaned_credit_reports.csv\")\n",
        "\n",
        "\n",
        "print(df.head())\n",
        "\n",
        "df.fillna(df.select_dtypes(include=[\"number\"]).median(), inplace=True)\n",
        "\n"
      ]
    },
    {
      "cell_type": "code",
      "execution_count": null,
      "id": "c20e18cb-24c8-4c85-968d-a5f07bc914f8",
      "metadata": {
        "id": "c20e18cb-24c8-4c85-968d-a5f07bc914f8",
        "outputId": "8b418f84-1af8-4196-8509-0e15abf15c22"
      },
      "outputs": [
        {
          "name": "stdout",
          "output_type": "stream",
          "text": [
            "Index(['Customer ID', 'Credit Score', 'Active Loans', 'Credit Utilization (%)',\n",
            "       'Missed Payments (12 Months)', 'Total Debt', 'Debt-to-Income Ratio'],\n",
            "      dtype='object')\n"
          ]
        }
      ],
      "source": [
        "print(df.columns)\n"
      ]
    },
    {
      "cell_type": "code",
      "execution_count": null,
      "id": "9a23559a-ee92-40fc-bc5a-593a033e39bc",
      "metadata": {
        "id": "9a23559a-ee92-40fc-bc5a-593a033e39bc",
        "outputId": "a0ff0aad-73fd-4e64-9df4-282204192621"
      },
      "outputs": [
        {
          "name": "stdout",
          "output_type": "stream",
          "text": [
            "['Customer ID', 'Credit Score', 'Active Loans', 'Credit Utilization (%)', 'Missed Payments (12 Months)', 'Total Debt', 'Debt-to-Income Ratio']\n"
          ]
        }
      ],
      "source": [
        "print(df.columns.tolist())\n"
      ]
    },
    {
      "cell_type": "code",
      "execution_count": null,
      "id": "5b0dc347-ebc6-49c1-b582-36d6b5875235",
      "metadata": {
        "id": "5b0dc347-ebc6-49c1-b582-36d6b5875235",
        "outputId": "34ca6eb3-9e54-483e-ce02-c36d10858406"
      },
      "outputs": [
        {
          "name": "stdout",
          "output_type": "stream",
          "text": [
            "Collecting numpy==1.24.3Note: you may need to restart the kernel to use updated packages.\n"
          ]
        },
        {
          "name": "stderr",
          "output_type": "stream",
          "text": [
            "ERROR: Could not install packages due to an OSError: [WinError 5] Access is denied: 'C:\\\\Users\\\\somya\\\\anaconda3\\\\Lib\\\\site-packages\\\\~~mpy.libs\\\\libopenblas64__v0.3.23-293-gc2f4bdbb-gcc_10_3_0-2bde3a66a51006b2b53eb373ff767a3f.dll'\n",
            "Consider using the `--user` option or check the permissions.\n",
            "\n"
          ]
        },
        {
          "name": "stdout",
          "output_type": "stream",
          "text": [
            "\n",
            "  Downloading numpy-1.24.3-cp39-cp39-win_amd64.whl (14.9 MB)\n",
            "     ---------------------------------------- 14.9/14.9 MB 4.9 MB/s eta 0:00:00\n",
            "Installing collected packages: numpy\n",
            "  Attempting uninstall: numpy\n",
            "    Found existing installation: numpy 1.26.4\n",
            "    Uninstalling numpy-1.26.4:\n",
            "      Successfully uninstalled numpy-1.26.4\n"
          ]
        }
      ],
      "source": [
        "pip install numpy==1.24.3\n"
      ]
    },
    {
      "cell_type": "code",
      "execution_count": null,
      "id": "6c5cdc74-4dd7-4325-8645-9af13b431db0",
      "metadata": {
        "id": "6c5cdc74-4dd7-4325-8645-9af13b431db0"
      },
      "outputs": [],
      "source": []
    }
  ],
  "metadata": {
    "kernelspec": {
      "display_name": "Python 3 (ipykernel)",
      "language": "python",
      "name": "python3"
    },
    "language_info": {
      "codemirror_mode": {
        "name": "ipython",
        "version": 3
      },
      "file_extension": ".py",
      "mimetype": "text/x-python",
      "name": "python",
      "nbconvert_exporter": "python",
      "pygments_lexer": "ipython3",
      "version": "3.9.13"
    },
    "colab": {
      "provenance": []
    }
  },
  "nbformat": 4,
  "nbformat_minor": 5
}