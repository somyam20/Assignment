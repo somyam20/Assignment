{
  "cells": [
    {
      "cell_type": "code",
      "execution_count": null,
      "id": "c8a699e3-a3a1-4579-8176-103356fba642",
      "metadata": {
        "id": "c8a699e3-a3a1-4579-8176-103356fba642",
        "outputId": "01f1ab37-3d21-442a-8450-9fea995be41c"
      },
      "outputs": [
        {
          "name": "stdout",
          "output_type": "stream",
          "text": [
            "  Customer ID  Credit Score  Active Loans  Credit Utilization (%)  \\\n",
            "0    CUST3141           567             3                   40.86   \n",
            "1    CUST4357           565             1                   71.55   \n",
            "2    CUST3838           747             0                   75.38   \n",
            "3    CUST2343           717             0                   43.45   \n",
            "4    CUST8876           597             2                   43.44   \n",
            "\n",
            "   Missed Payments (12 Months)  Total Debt  Debt-to-Income Ratio  \n",
            "0                            4   161854.14                  0.32  \n",
            "1                            3   166507.41                  0.38  \n",
            "2                            2   184491.38                  0.46  \n",
            "3                            1   117802.79                  0.61  \n",
            "4                            2    34003.18                  0.79  \n"
          ]
        }
      ],
      "source": [
        "import pandas as pd\n",
        "df = pd.read_csv(r\"C:\\Users\\somya\\cleaned_credit_reports.csv\")\n",
        "print(df.head())\n",
        "df.fillna(df.select_dtypes(include=[\"number\"]).median(), inplace=True)\n",
        "\n"
      ]
    },
    {
      "cell_type": "code",
      "execution_count": null,
      "id": "8acf1f56-41ea-4b1b-9fec-32f0809a0685",
      "metadata": {
        "id": "8acf1f56-41ea-4b1b-9fec-32f0809a0685",
        "outputId": "76e1fe3a-fbbc-4752-9f78-14179486242c"
      },
      "outputs": [
        {
          "name": "stdout",
          "output_type": "stream",
          "text": [
            "Index(['Customer ID', 'Credit Score', 'Active Loans', 'Credit Utilization (%)',\n",
            "       'Missed Payments (12 Months)', 'Total Debt', 'Debt-to-Income Ratio'],\n",
            "      dtype='object')\n",
            "   Credit Score  Debt-to-Income Ratio  Missed Payments (12 Months)  \\\n",
            "0     -0.921726             -1.131843                     1.568929   \n",
            "1     -0.947472             -0.778142                     0.588348   \n",
            "2      1.395462             -0.306541                    -0.392232   \n",
            "3      1.009264              0.577711                    -1.372813   \n",
            "4     -0.535528              1.638814                    -0.392232   \n",
            "\n",
            "   Credit Utilization (%)  Total Debt  \n",
            "0               -0.925651    0.534538  \n",
            "1                1.092553    0.620538  \n",
            "2                1.344417    0.952915  \n",
            "3               -0.755330   -0.279611  \n",
            "4               -0.755988   -1.828380  \n",
            "0    1\n",
            "1    1\n",
            "2    0\n",
            "3    0\n",
            "4    1\n",
            "Name: Risk, dtype: int64\n"
          ]
        }
      ],
      "source": [
        "import pandas as pd\n",
        "from sklearn.preprocessing import StandardScaler\n",
        "print(df.columns)\n",
        "if \"Risk\" not in df.columns:\n",
        "    df[\"Risk\"] = df[\"Credit Score\"].apply(lambda x: 1 if x < 600 else 0)\n",
        "features = [\"Credit Score\", \"Debt-to-Income Ratio\", \"Missed Payments (12 Months)\", \"Credit Utilization (%)\", \"Total Debt\"]\n",
        "X = df[features].copy()\n",
        "y = df[\"Risk\"]\n",
        "X = X.fillna(X.mean())\n",
        "scaler = StandardScaler()\n",
        "X_scaled = scaler.fit_transform(X)\n",
        "X_scaled = pd.DataFrame(X_scaled, columns=features)\n",
        "print(X_scaled.head())\n",
        "print(y.head())\n"
      ]
    },
    {
      "cell_type": "code",
      "execution_count": null,
      "id": "6c135172-fd91-4cfa-827e-94d2351ab2b6",
      "metadata": {
        "id": "6c135172-fd91-4cfa-827e-94d2351ab2b6",
        "outputId": "a1a2c40a-2c0d-4945-d434-f37b0209da27"
      },
      "outputs": [
        {
          "name": "stdout",
          "output_type": "stream",
          "text": [
            "Requirement already satisfied: imbalanced-learn in c:\\users\\somya\\anaconda3\\lib\\site-packages (0.12.4)\n",
            "Requirement already satisfied: numpy>=1.17.3 in c:\\users\\somya\\anaconda3\\lib\\site-packages (from imbalanced-learn) (1.24.3)\n",
            "Requirement already satisfied: threadpoolctl>=2.0.0 in c:\\users\\somya\\anaconda3\\lib\\site-packages (from imbalanced-learn) (2.2.0)\n",
            "Requirement already satisfied: scikit-learn>=1.0.2 in c:\\users\\somya\\anaconda3\\lib\\site-packages (from imbalanced-learn) (1.0.2)\n",
            "Requirement already satisfied: scipy>=1.5.0 in c:\\users\\somya\\anaconda3\\lib\\site-packages (from imbalanced-learn) (1.9.1)\n",
            "Requirement already satisfied: joblib>=1.1.1 in c:\\users\\somya\\anaconda3\\lib\\site-packages (from imbalanced-learn) (1.4.2)\n"
          ]
        }
      ],
      "source": [
        "!pip install imbalanced-learn\n"
      ]
    },
    {
      "cell_type": "code",
      "execution_count": null,
      "id": "4d8d2b9b-441a-4f38-8cd0-fa0b335dd570",
      "metadata": {
        "id": "4d8d2b9b-441a-4f38-8cd0-fa0b335dd570",
        "outputId": "7f0f3ca0-7702-4cc3-b692-fd18081a6132"
      },
      "outputs": [
        {
          "name": "stdout",
          "output_type": "stream",
          "text": [
            "Training set class distribution:\n",
            " Risk\n",
            "1    2\n",
            "0    2\n",
            "Name: count, dtype: int64\n",
            "Test set class distribution:\n",
            " Risk\n",
            "1    1\n",
            "Name: count, dtype: int64\n",
            "Accuracy: 0.0\n",
            "              precision    recall  f1-score   support\n",
            "\n",
            "           0       0.00      1.00      0.00       0.0\n",
            "           1       1.00      0.00      0.00       1.0\n",
            "\n",
            "    accuracy                           0.00       1.0\n",
            "   macro avg       0.50      0.50      0.00       1.0\n",
            "weighted avg       1.00      0.00      0.00       1.0\n",
            "\n"
          ]
        }
      ],
      "source": [
        "from sklearn.model_selection import train_test_split\n",
        "from sklearn.ensemble import RandomForestClassifier\n",
        "from sklearn.metrics import accuracy_score, classification_report\n",
        "from imblearn.over_sampling import SMOTE\n",
        "X_train, X_test, y_train, y_test = train_test_split(X_scaled, y, test_size=0.2, random_state=42)\n",
        "print(\"Training set class distribution:\\n\", y_train.value_counts())\n",
        "print(\"Test set class distribution:\\n\", y_test.value_counts())\n",
        "if y_train.value_counts().min() < 10:\n",
        "    smote = SMOTE(random_state=42)\n",
        "    X_train, y_train = smote.fit_resample(X_train, y_train)\n",
        "model = RandomForestClassifier(n_estimators=100, random_state=42)\n",
        "model.fit(X_train, y_train)\n",
        "y_pred = model.predict(X_test)\n",
        "print(\"Accuracy:\", accuracy_score(y_test, y_pred))\n",
        "print(classification_report(y_test, y_pred, zero_division=1))\n"
      ]
    },
    {
      "cell_type": "code",
      "execution_count": null,
      "id": "0c310a12-2ecb-42fb-899c-5d241e0e8e02",
      "metadata": {
        "id": "0c310a12-2ecb-42fb-899c-5d241e0e8e02"
      },
      "outputs": [],
      "source": []
    }
  ],
  "metadata": {
    "kernelspec": {
      "display_name": "Python 3 (ipykernel)",
      "language": "python",
      "name": "python3"
    },
    "language_info": {
      "codemirror_mode": {
        "name": "ipython",
        "version": 3
      },
      "file_extension": ".py",
      "mimetype": "text/x-python",
      "name": "python",
      "nbconvert_exporter": "python",
      "pygments_lexer": "ipython3",
      "version": "3.9.13"
    },
    "colab": {
      "provenance": []
    }
  },
  "nbformat": 4,
  "nbformat_minor": 5
}